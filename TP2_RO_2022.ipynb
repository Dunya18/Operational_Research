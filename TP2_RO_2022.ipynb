{
  "cells": [
    {
      "cell_type": "markdown",
      "metadata": {
        "id": "view-in-github",
        "colab_type": "text"
      },
      "source": [
        "<a href=\"https://colab.research.google.com/github/Dunya18/Operational_Research/blob/main/TP2_RO_2022.ipynb\" target=\"_parent\"><img src=\"https://colab.research.google.com/assets/colab-badge.svg\" alt=\"Open In Colab\"/></a>"
      ]
    },
    {
      "cell_type": "markdown",
      "metadata": {
        "id": "AYuYsiyyMQLc"
      },
      "source": [
        "# TP2 Operational research"
      ]
    },
    {
      "cell_type": "markdown",
      "metadata": {
        "id": "HQlvN_6cMQLg"
      },
      "source": [
        "## If you have Cplex-Python installation problem "
      ]
    },
    {
      "cell_type": "markdown",
      "metadata": {
        "id": "frO8PeIUMQLg"
      },
      "source": [
        "Step 1: Check if your python version is **3.7**"
      ]
    },
    {
      "cell_type": "code",
      "execution_count": null,
      "metadata": {
        "colab": {
          "base_uri": "https://localhost:8080/"
        },
        "id": "CDaqKzu1MQLh",
        "outputId": "ec1c1b58-8466-4c45-aa37-05230f6ca28a"
      },
      "outputs": [
        {
          "output_type": "stream",
          "name": "stdout",
          "text": [
            "3.8.10 (default, Nov 14 2022, 12:59:47) \n",
            "[GCC 9.4.0]\n"
          ]
        }
      ],
      "source": [
        "import sys\n",
        "print(sys.version)\n",
        "#print(sys.executable)"
      ]
    },
    {
      "cell_type": "markdown",
      "metadata": {
        "id": "ANPPcamIMQLi"
      },
      "source": [
        "If not,\\\n",
        "$~~$    install Python 3.7 directly and run jupyter notebook with python 3.7 \\\n",
        "or\\\n",
        "$~~$    create a virtual python 3.7 enrivoments by anaconda (**recommended**) :  see https://docs.conda.io/projects/conda/en/latest/user-guide/tasks/manage-environments.html or other instructional sources by Google"
      ]
    },
    {
      "cell_type": "markdown",
      "metadata": {
        "id": "RUGrQYRdMQLj"
      },
      "source": [
        "Step 2: run the following command "
      ]
    },
    {
      "cell_type": "code",
      "execution_count": null,
      "metadata": {
        "colab": {
          "base_uri": "https://localhost:8080/"
        },
        "id": "tBwCw_0FMQLj",
        "outputId": "dbf8e399-db08-4330-c086-3d503a5a288b"
      },
      "outputs": [
        {
          "output_type": "stream",
          "name": "stdout",
          "text": [
            "Looking in indexes: https://pypi.org/simple, https://us-python.pkg.dev/colab-wheels/public/simple/\n",
            "Collecting cplex\n",
            "  Downloading cplex-22.1.0.0-cp38-cp38-manylinux1_x86_64.whl (43.3 MB)\n",
            "\u001b[2K     \u001b[90m━━━━━━━━━━━━━━━━━━━━━━━━━━━━━━━━━━━━━━━━\u001b[0m \u001b[32m43.3/43.3 MB\u001b[0m \u001b[31m15.9 MB/s\u001b[0m eta \u001b[36m0:00:00\u001b[0m\n",
            "\u001b[?25hInstalling collected packages: cplex\n",
            "Successfully installed cplex-22.1.0.0\n"
          ]
        }
      ],
      "source": [
        "!pip install cplex"
      ]
    },
    {
      "cell_type": "code",
      "execution_count": null,
      "metadata": {
        "colab": {
          "base_uri": "https://localhost:8080/"
        },
        "id": "76wy042gMQLk",
        "outputId": "209dcf9f-8720-4836-9c86-1ff000d70f62"
      },
      "outputs": [
        {
          "output_type": "stream",
          "name": "stdout",
          "text": [
            "Looking in indexes: https://pypi.org/simple, https://us-python.pkg.dev/colab-wheels/public/simple/\n",
            "Collecting docplex\n",
            "  Downloading docplex-2.25.236.tar.gz (633 kB)\n",
            "\u001b[2K     \u001b[90m━━━━━━━━━━━━━━━━━━━━━━━━━━━━━━━━━━━━━━\u001b[0m \u001b[32m633.5/633.5 KB\u001b[0m \u001b[31m11.7 MB/s\u001b[0m eta \u001b[36m0:00:00\u001b[0m\n",
            "\u001b[?25h  Preparing metadata (setup.py) ... \u001b[?25l\u001b[?25hdone\n",
            "Requirement already satisfied: six in /usr/local/lib/python3.8/dist-packages (from docplex) (1.15.0)\n",
            "Building wheels for collected packages: docplex\n",
            "  Building wheel for docplex (setup.py) ... \u001b[?25l\u001b[?25hdone\n",
            "  Created wheel for docplex: filename=docplex-2.25.236-py3-none-any.whl size=671364 sha256=12e3d9375d6dc3492681b2f4758a7b306c27c89714993d2dde0829f243ef2b02\n",
            "  Stored in directory: /root/.cache/pip/wheels/b8/98/f8/22c3fe8d29be988cc4584363f494a459fb8f09c16d8e438ac7\n",
            "Successfully built docplex\n",
            "Installing collected packages: docplex\n",
            "Successfully installed docplex-2.25.236\n"
          ]
        }
      ],
      "source": [
        "!pip install docplex"
      ]
    },
    {
      "cell_type": "markdown",
      "metadata": {
        "id": "6fdbVYuZMQLk"
      },
      "source": [
        "## Integer programming "
      ]
    },
    {
      "cell_type": "code",
      "execution_count": null,
      "metadata": {
        "id": "YiEBXZmTMQLl"
      },
      "outputs": [],
      "source": [
        "from docplex.mp.model import Model"
      ]
    },
    {
      "cell_type": "markdown",
      "metadata": {
        "id": "XEoA_vEHMQLm"
      },
      "source": [
        "Another example : model of the telephone production problem\n",
        "    \n",
        "* Decision variables:\n",
        "    * Number of desk phones produced (DeskProduction)\n",
        "    * Number of cellular phones produced (CellProduction)\n",
        "* Objective: Maximize profit **max  12.4 \\* desk + 20.2 \\* cell**\n",
        "\n",
        "* Constraints:\n",
        "    * The DeskProduction should be greater than or equal to 100.\\\n",
        "        **desk >= 100**       \n",
        "    * The CellProduction should be greater than or equal to 100.\\\n",
        "        **Cell >= 100**\n",
        "    * The assembly time for DeskProduction plus the assembly time for CellProduction should not exceed 400 hours.\\\n",
        "        **0.2 \\* desk + 0.4 \\* cell <= 401**\n",
        "    * The painting time for DeskProduction plus the painting time for CellProduction should not exceed 490 hours.\\\n",
        "        **0.5 \\* desk + 0.4 \\* cell <= 492**    "
      ]
    },
    {
      "cell_type": "code",
      "execution_count": null,
      "metadata": {
        "colab": {
          "base_uri": "https://localhost:8080/"
        },
        "id": "Of-XOsjaMQLm",
        "outputId": "0d0d6a59-7df8-47c3-d582-3419038cb368"
      },
      "outputs": [
        {
          "output_type": "stream",
          "name": "stdout",
          "text": [
            "objective: 20948.167\n",
            "status: OPTIMAL_SOLUTION(2)\n",
            "  desk=303.333\n",
            "  cell=850.833\n"
          ]
        }
      ],
      "source": [
        "lm = Model(name='lp_telephone_production')\n",
        "desk = lm.continuous_var(name='desk')\n",
        "cell = lm.continuous_var(name='cell')\n",
        "# write constraints\n",
        "# constraint #1: desk production is greater than 100\n",
        "lm.add_constraint(desk >= 100)\n",
        "\n",
        "# constraint #2: cell production is greater than 100\n",
        "lm.add_constraint(cell >= 100)\n",
        "\n",
        "# constraint #3: assembly time limit\n",
        "ct_assembly = lm.add_constraint( 0.2 * desk + 0.4 * cell <= 401)\n",
        "\n",
        "# constraint #4: paiting time limit\n",
        "ct_painting = lm.add_constraint( 0.5 * desk + 0.4 * cell <= 492)\n",
        "lm.maximize(12.4 * desk + 20.2 * cell)\n",
        "\n",
        "ls = lm.solve()\n",
        "lm.print_solution()"
      ]
    },
    {
      "cell_type": "markdown",
      "metadata": {
        "id": "XBd2_1iMMQLn"
      },
      "source": [
        "![img](https://camo.githubusercontent.com/b73348303cb92a1e7ee32a68d547205592af9e10/68747470733a2f2f69626d6465636973696f6e6f7074696d697a6174696f6e2e6769746875622e696f2f7475746f7269616c732f6a7570797465722f747261696e696e672f315f33392e706e673f7261773d74727565)"
      ]
    },
    {
      "cell_type": "markdown",
      "metadata": {
        "id": "vzQ1QmdjMQLn"
      },
      "source": [
        "As we can see the optimal solution contains fractional values for number of telephones, which are not realistic. To ensure we get integer values in the solution, we can use integer decision variables.\n",
        "\n",
        "Let's solve a new model, identical except that its two decision variables are declared as integer variables."
      ]
    },
    {
      "cell_type": "code",
      "execution_count": null,
      "metadata": {
        "scrolled": true,
        "colab": {
          "base_uri": "https://localhost:8080/",
          "height": 235
        },
        "id": "wAYhqYDaMQLn",
        "outputId": "d93abfc6-8f3b-4cc3-c0fa-e6c3580d5187"
      },
      "outputs": [
        {
          "output_type": "error",
          "ename": "NameError",
          "evalue": "ignored",
          "traceback": [
            "\u001b[0;31m---------------------------------------------------------------------------\u001b[0m",
            "\u001b[0;31mNameError\u001b[0m                                 Traceback (most recent call last)",
            "\u001b[0;32m<ipython-input-1-49a14fcac8fc>\u001b[0m in \u001b[0;36m<module>\u001b[0;34m\u001b[0m\n\u001b[0;32m----> 1\u001b[0;31m \u001b[0mim\u001b[0m \u001b[0;34m=\u001b[0m \u001b[0mModel\u001b[0m\u001b[0;34m(\u001b[0m\u001b[0mname\u001b[0m\u001b[0;34m=\u001b[0m\u001b[0;34m'ip_telephone_production'\u001b[0m\u001b[0;34m)\u001b[0m\u001b[0;34m\u001b[0m\u001b[0;34m\u001b[0m\u001b[0m\n\u001b[0m\u001b[1;32m      2\u001b[0m \u001b[0mdesk\u001b[0m \u001b[0;34m=\u001b[0m \u001b[0mim\u001b[0m\u001b[0;34m.\u001b[0m\u001b[0minteger_var\u001b[0m\u001b[0;34m(\u001b[0m\u001b[0mname\u001b[0m\u001b[0;34m=\u001b[0m\u001b[0;34m'desk'\u001b[0m\u001b[0;34m)\u001b[0m\u001b[0;34m\u001b[0m\u001b[0;34m\u001b[0m\u001b[0m\n\u001b[1;32m      3\u001b[0m \u001b[0mcell\u001b[0m \u001b[0;34m=\u001b[0m \u001b[0mim\u001b[0m\u001b[0;34m.\u001b[0m\u001b[0minteger_var\u001b[0m\u001b[0;34m(\u001b[0m\u001b[0mname\u001b[0m\u001b[0;34m=\u001b[0m\u001b[0;34m'cell'\u001b[0m\u001b[0;34m)\u001b[0m\u001b[0;34m\u001b[0m\u001b[0;34m\u001b[0m\u001b[0m\n\u001b[1;32m      4\u001b[0m \u001b[0;31m# write constraints\u001b[0m\u001b[0;34m\u001b[0m\u001b[0;34m\u001b[0m\u001b[0;34m\u001b[0m\u001b[0m\n\u001b[1;32m      5\u001b[0m \u001b[0;31m# constraint #1: desk production is greater than 100\u001b[0m\u001b[0;34m\u001b[0m\u001b[0;34m\u001b[0m\u001b[0;34m\u001b[0m\u001b[0m\n",
            "\u001b[0;31mNameError\u001b[0m: name 'Model' is not defined"
          ]
        }
      ],
      "source": [
        "im = Model(name='ip_telephone_production')\n",
        "desk = im.integer_var(name='desk')\n",
        "cell = im.integer_var(name='cell')\n",
        "# write constraints\n",
        "# constraint #1: desk production is greater than 100\n",
        "im.add_constraint(desk >= 100)\n",
        "\n",
        "# constraint #2: cell production is greater than 100\n",
        "im.add_constraint(cell >= 100)\n",
        "\n",
        "# constraint #3: assembly time limit\n",
        "im.add_constraint( 0.2 * desk + 0.4 * cell <= 401)\n",
        "\n",
        "# constraint #4: paiting time limit\n",
        "im.add_constraint( 0.5 * desk + 0.4 * cell <= 492)\n",
        "im.maximize(12.4 * desk + 20.2 * cell)\n",
        "\n",
        "si = im.solve()\n",
        "im.print_solution()"
      ]
    },
    {
      "cell_type": "markdown",
      "metadata": {
        "id": "HCPz_8IIMQLo"
      },
      "source": [
        "What if the question is a **binary** integer programming (0-1 type)? \\\n",
        "See: http://ibmdecisionoptimization.github.io/docplex-doc/mp/creating_model.html"
      ]
    },
    {
      "cell_type": "markdown",
      "metadata": {
        "id": "Cce_FjvEMQLo"
      },
      "source": [
        "## Network modelling concepts"
      ]
    },
    {
      "cell_type": "markdown",
      "metadata": {
        "id": "bg1TSgL8MQLo"
      },
      "source": [
        "Any network structure can be described using two types of objects:\n",
        "\n",
        "- Nodes (points, vertices): Defined points in the network, for example warehouses.\n",
        "- Arcs (links, edges): An arc connects two nodes, for example a road connecting two warehouses. \n",
        "\n",
        "An arc can be _directed_, which means than an arc $a_{ij}$ from node $i$ to node $j$ is different from arc $a_{ji}$ that begins at node $j$ and ends at node $i$.\n",
        "\n",
        "<p>\n",
        "<ul>\n",
        "<img src = \"https://ibmdecisionoptimization.github.io/tutorials/jupyter/training/1_5.png?raw=true\" >\n",
        "</ul> \n",
        "\n",
        " A sequence of arcs connecting two nodes is called a chain. Each arc in a chain shares exactly one node with the preceding arc.\n",
        "\n",
        " When all the arcs in a chain are directed such that it is possible to traverse the chain in the directions of the arcs from the start node to the end node, it is called a path.\n",
        "\n",
        "<p>\n",
        "<ul>\n",
        "<img src = \"https://ibmdecisionoptimization.github.io/tutorials/jupyter/training/1_6.png?raw=true\" >\n",
        "</ul> \n"
      ]
    },
    {
      "cell_type": "markdown",
      "metadata": {
        "id": "cJ3ntP8QMQLp"
      },
      "source": [
        "### The Transportation Problem\n",
        "\n",
        "One of the most common real-world network problems is the transportation problem.  This type of problem involves a set of supply nodes and a set of demand nodes.  The objective is to minimize the transportation cost from the supply nodes to the demand nodes, so as to satisfy the demand, and without exceeding the suppliers’ capacities.  \n",
        "\n",
        "Such a problem can be depicted in a graph, with supply nodes, demand nodes, and connecting arcs.  The supply capacity is indicated with the supply nodes, while the demand is indicated with the demand nodes, and the transportation costs are indicated on the arcs.  \n",
        "\n",
        "<p>\n",
        "<ul>\n",
        "<img src = \"https://ibmdecisionoptimization.github.io/tutorials/jupyter/training/1_8.png?raw=true\" >\n",
        "</ul> \n",
        "\n",
        "The LP formulation involves one type of variable, namely $x(i,j)$ representing the quantity transported from supply node $i$ to demand node $j$.  The objective is to minimize the total transportation cost across all arcs.  The constraints are flow conservation constraints.  The first two constraints state that the outflow from each supply node should be less than or equal to the supply capacity. The next three constraints state that the inflow into each demand node should equal the demand at that node. The domain for the shipments on the allowable arcs is set to be greater than or equal to zero, while the shipment quantities on the disallowed arcs are set to zero.  \n",
        "\n",
        "Even though arcs $(1,4)$ and $(2,3)$ do not exist in the graph, the variables are included in the slide to show the special structure of the transportation problem.  If you were to formulate such a model in practice, you’d simply exclude these variables. "
      ]
    },
    {
      "cell_type": "markdown",
      "metadata": {
        "id": "7YIGm7CCMQLp"
      },
      "source": [
        "#### Formulating a simple transportation problem with DOcplex\n",
        "\n",
        "In the next section, we formulate the problem described above using DOcplex."
      ]
    },
    {
      "cell_type": "markdown",
      "metadata": {
        "id": "Nq69AkUCMQLp"
      },
      "source": [
        "#### What data for the transpotation problem?\n",
        "\n",
        "Input ndoes are integers ranging in {1, 2}; output nodes are integers ranging from 3 to 5.\n",
        "\n",
        "The data consists in three Python dictionaries:\n",
        "\n",
        "- one dictionary gives capacity values for all input nodes\n",
        "- one dictionary contains demands for all target nodes\n",
        "- one last dictionary holds cost values for some (source, target) pair of nodes."
      ]
    },
    {
      "cell_type": "code",
      "execution_count": null,
      "metadata": {
        "id": "IPfSor25MQLq"
      },
      "outputs": [],
      "source": [
        "capacities = {1: 15, 2: 20}\n",
        "demands = {3: 7, 4: 10, 5: 15}\n",
        "costs = {(1,3): 2, (1,5):4, (2,4):5, (2,5):3}\n",
        "\n",
        "# Python ranges will be used to iterate on source, target nodes.\n",
        "source = range(1, 3) # {1,2}\n",
        "target = range(3, 6) # {3,4,5}"
      ]
    },
    {
      "cell_type": "markdown",
      "metadata": {
        "id": "QzlHNX26MQLq"
      },
      "source": [
        "#### Create a model instance"
      ]
    },
    {
      "cell_type": "code",
      "execution_count": null,
      "metadata": {
        "id": "6YWyaHSXMQLq"
      },
      "outputs": [],
      "source": [
        "from docplex.mp.model import Model\n",
        "\n",
        "tm = Model(name='transportation')"
      ]
    },
    {
      "cell_type": "markdown",
      "metadata": {
        "id": "USu8M6y4MQLq"
      },
      "source": [
        "#### Define the decision variables\n",
        "- The continuous variable `x_i_j` represents the quantity transported from supply node `i` to demand node `j`."
      ]
    },
    {
      "cell_type": "code",
      "execution_count": null,
      "metadata": {
        "colab": {
          "base_uri": "https://localhost:8080/"
        },
        "id": "ApqFbHUXMQLq",
        "outputId": "1952c72b-1792-472f-a854-9225caf0da8e"
      },
      "outputs": [
        {
          "output_type": "stream",
          "name": "stdout",
          "text": [
            "Model: transportation\n",
            " - number of variables: 4\n",
            "   - binary=0, integer=0, continuous=4\n",
            " - number of constraints: 0\n",
            "   - linear=0\n",
            " - parameters: defaults\n",
            " - objective: none\n",
            " - problem type is: LP\n"
          ]
        }
      ],
      "source": [
        "# create flow variables for each couple of nodes\n",
        "# x(i,j) is the flow going out of node i to node j\n",
        "x = {(i,j): tm.continuous_var(name='x_{0}_{1}'.format(i,j)) for i in source for j in target if (i,j) in costs}\n",
        "\n",
        "tm.print_information()"
      ]
    },
    {
      "cell_type": "markdown",
      "metadata": {
        "id": "O51x_7nXMQLr"
      },
      "source": [
        "#### Set up the constraints\n",
        "\n",
        "- For each source node, the total outbound flow must be smaller than available quantity.\n",
        "- For each target node, total inbound flow must be greater thand demand"
      ]
    },
    {
      "cell_type": "code",
      "execution_count": null,
      "metadata": {
        "id": "b4EE-dSrMQLr"
      },
      "outputs": [],
      "source": [
        "# for each node, total outgoing flow must be smaller than available quantity\n",
        "for i in source:\n",
        "    tm.add_constraint(tm.sum(x[i,j] for j in target if (i,j) in costs) <= capacities[i])\n",
        "    \n",
        "# for each target node, total ingoing flow must be greater thand demand\n",
        "for j in target:\n",
        "    tm.add_constraint(tm.sum(x[i,j] for i in source if (i,j) in costs) >= demands[j])"
      ]
    },
    {
      "cell_type": "markdown",
      "metadata": {
        "id": "H9MqY_mAMQLr"
      },
      "source": [
        "#### Express the business objective: minimize total flow cost\n",
        "\n",
        "Each arc has a unit cost and we want to minimize the total cost. We only express cost when the arc exists."
      ]
    },
    {
      "cell_type": "code",
      "execution_count": null,
      "metadata": {
        "id": "L1XzR31IMQLr"
      },
      "outputs": [],
      "source": [
        "tm.minimize(tm.sum(x[i,j]*costs[i,j] for i in source for j in target if (i,j) in costs))"
      ]
    },
    {
      "cell_type": "markdown",
      "metadata": {
        "id": "6gUX4TNZMQLr"
      },
      "source": [
        "### Solve with the Decision Optimization solve service\n",
        "\n",
        "If url and key are None, the Modeling layer will look for a local runtime, otherwise will use the credentials.\n",
        "\n",
        "Look at the documentation for a good understanding of the various solving/generation modes.\n",
        "\n",
        "If you're using a Community Edition of CPLEX runtimes, depending on the size of the problem, the solve stage may fail and will need a paying subscription or product installation.\n",
        "\n",
        "In any case, `Model.solve()` returns a solution object in Python, containing the optimal values of decision variables, if the solve succeeds, or else it returns `None`."
      ]
    },
    {
      "cell_type": "code",
      "execution_count": null,
      "metadata": {
        "scrolled": true,
        "colab": {
          "base_uri": "https://localhost:8080/"
        },
        "id": "8FEDKkSDMQLr",
        "outputId": "abf3520a-9209-4850-8be0-ace036ee2d5a"
      },
      "outputs": [
        {
          "output_type": "stream",
          "name": "stdout",
          "text": [
            "solution for: transportation\n",
            "objective: 114.000\n",
            "status: OPTIMAL_SOLUTION(2)\n",
            "x_1_3 = 7.000\n",
            "x_1_5 = 5.000\n",
            "x_2_4 = 10.000\n",
            "x_2_5 = 10.000\n"
          ]
        }
      ],
      "source": [
        "tms = tm.solve()\n",
        "tms.display()"
      ]
    },
    {
      "cell_type": "markdown",
      "metadata": {
        "id": "9m90ROzzMQLs"
      },
      "source": [
        "## The Shortest path problem"
      ]
    },
    {
      "cell_type": "markdown",
      "metadata": {
        "id": "IHHupNpMMQLs"
      },
      "source": [
        "The Shortest Path Problem is the problem of finding the shortest path through a network.  For example, to find the minimum travel time between two cities in a network of cities.  The shortest path problem is a special case of the transshipment problem, where there is exactly one supply node and one demand node, and the supply and demand are both equal to 1.  \n",
        "\n",
        "<p>\n",
        "<ul>\n",
        "<img src = \"https://ibmdecisionoptimization.github.io/tutorials/jupyter/training/1_12.png?raw=true\" >\n",
        "</ul> \n",
        "\n",
        "In this example, each node represents a city, and each arc represents the road connecting two cities.  The travel time is indicated on each arc.  The variable $x(i, j)$ takes a value of 1 if the arc between $i$ and $j$ is included in the shortest path, and zero otherwise.  The objective is to minimize the total travel time.  As with the other network problems, the constraints can be seen as flow conservation constraints.  A constraint exists for each node (or each city) and the constraints state that exactly one arc should be chosen into each city, and exactly one arc should be chosen out of each city.  \n",
        "\n",
        "Again, even though the $x$ variables must take $0-1$ values, they can be declared as continuous due to the integrality property (that is, all the capacity and demand quantities are integer). "
      ]
    },
    {
      "cell_type": "markdown",
      "metadata": {
        "id": "j2ZS8uDUMQLs"
      },
      "source": [
        "### Model about the shortest path problem"
      ]
    },
    {
      "cell_type": "markdown",
      "metadata": {
        "id": "-ajJDdV5MQLs"
      },
      "source": [
        "Let us consider a directed graph $G = (V, A)$ with the set of nodes $V$ and the set of arcs $A$. Let $n$ and $m$ be the cardinality of $V$ and $A$, respectively. A path is a sequence of nodes $v_1, . . . , v_k$. We denote by $\\delta^+(i)$ and $\\delta^-(i)$ the set of outgoing and incoming arcs of node $i$. \n",
        "\n",
        "A standard integer programming formulation to determine a shortest path from node $s$ to node $t$ is the following:"
      ]
    },
    {
      "cell_type": "markdown",
      "metadata": {
        "id": "V5SMZhpFMQLs"
      },
      "source": [
        "<img src = \"https://ftp.bmp.ovh/imgs/2020/12/49f35869d4f2b4f9.png\" >"
      ]
    },
    {
      "cell_type": "markdown",
      "metadata": {
        "id": "_x81dtGBMQLs"
      },
      "source": [
        "### Solve the problem with cplex"
      ]
    },
    {
      "cell_type": "code",
      "execution_count": null,
      "metadata": {
        "id": "J5eQ1-scMQLs"
      },
      "outputs": [],
      "source": [
        "# define the variables\n",
        "cities = range(0,6) # {0, 1, 2, 3, 4, 5}\n",
        "source = {0}\n",
        "destination = {5}\n",
        "distance = {(0,1): 2, (0,2): 4, (1,2): 1, (1,3): 2, (1,4): 4, (2,4): 2, (3,5): 3, (4,5): 1}\n",
        "\n",
        "\n",
        "# create model\n",
        "from docplex.mp.model import Model\n",
        "im = Model(name='shortest_path_example')\n",
        "\n",
        "# define decision variable x : binary for path included or not\n",
        "x = {(i,j): im.binary_var(name='x_{0}_{1}'.format(i,j)) for i in cities for j in cities if (i,j) in distance}"
      ]
    },
    {
      "cell_type": "code",
      "execution_count": null,
      "metadata": {
        "scrolled": true,
        "colab": {
          "base_uri": "https://localhost:8080/"
        },
        "id": "2hegNkmmMQLt",
        "outputId": "260f980c-535e-4e17-9bcb-a858d9826d94"
      },
      "outputs": [
        {
          "output_type": "stream",
          "name": "stdout",
          "text": [
            "Model: shortest_path_example\n",
            " - number of variables: 8\n",
            "   - binary=8, integer=0, continuous=0\n",
            " - number of constraints: 0\n",
            "   - linear=0\n",
            " - parameters: defaults\n",
            " - objective: none\n",
            " - problem type is: MILP\n"
          ]
        }
      ],
      "source": [
        "im.print_information()"
      ]
    },
    {
      "cell_type": "code",
      "execution_count": null,
      "metadata": {
        "id": "FOby3EecMQLt"
      },
      "outputs": [],
      "source": [
        "# constraint (2)\n",
        "for i in source:\n",
        "    im.add_constraint(im.sum(x[i,j] for j in cities if (i,j) in distance) - \n",
        "                      im.sum(x[j,i] for j in cities if (j,i) in distance ) == 1)\n",
        "\n",
        "for i in destination:\n",
        "    im.add_constraint(im.sum(x[i,j] for j in cities if (i,j) in distance) - \n",
        "                      im.sum(x[j,i] for j in cities if (j,i) in distance ) == -1)\n",
        "\n",
        "for i in cities :\n",
        "    if i not in source and i not in destination:\n",
        "        im.add_constraint(im.sum(x[i,j] for j in cities if (i,j) in distance) - \n",
        "                          im.sum(x[j,i] for j in cities if (j,i) in distance ) == 0)\n",
        "\n",
        "# constraint (3)\n",
        "for i in cities :\n",
        "    im.add_constraint(im.sum(x[i,j] for j in cities if (i,j) in distance) <= 1)"
      ]
    },
    {
      "cell_type": "code",
      "execution_count": null,
      "metadata": {
        "id": "yxeF6mscMQLt"
      },
      "outputs": [],
      "source": [
        "# objective function (1)\n",
        "im.minimize(im.sum(x[i,j]*distance[i,j] for i in cities for j in cities if (i,j) in distance))"
      ]
    },
    {
      "cell_type": "code",
      "execution_count": null,
      "metadata": {
        "scrolled": false,
        "colab": {
          "base_uri": "https://localhost:8080/"
        },
        "id": "HjKOf4skMQLt",
        "outputId": "dfabe78c-8a19-4137-aaff-4dd3ad481bf1"
      },
      "outputs": [
        {
          "output_type": "stream",
          "name": "stdout",
          "text": [
            "objective: 6\n",
            "status: OPTIMAL_SOLUTION(2)\n",
            "  x_0_1=1\n",
            "  x_1_2=1\n",
            "  x_2_4=1\n",
            "  x_4_5=1\n"
          ]
        }
      ],
      "source": [
        "# get the solution\n",
        "si = im.solve()\n",
        "im.print_solution()"
      ]
    },
    {
      "cell_type": "markdown",
      "metadata": {
        "id": "5SKcYDWGMQLt"
      },
      "source": [
        "So the best path is : \n",
        "   > start --> city 1 --> city 2 --> city 4 --> end"
      ]
    },
    {
      "cell_type": "markdown",
      "metadata": {
        "id": "KIkH6qjeMQLt"
      },
      "source": [
        "##  Exercise "
      ]
    },
    {
      "cell_type": "markdown",
      "metadata": {
        "id": "fN0oi_W8MQLt"
      },
      "source": [
        "### 1\n",
        "A real estate development firm, Peterson and Johnson, is considering five possible development projects. The following table shows the estimated long-run profit (net present value) that each project would generate, as well as the amount of investment required to undertake the project, in units of millions of dollars."
      ]
    },
    {
      "cell_type": "markdown",
      "metadata": {
        "id": "juFLBDbPMQLu"
      },
      "source": [
        "| project number     | 1 | 2 | 3 | 4 | 5 |\n",
        "|--------------------|---|---|---|---|---|\n",
        "| Estimated profit   | 1 |1.8|1.6|0.8|1.4|\n",
        "| Capital required   | 6 |12 |10 |4  | 8 | "
      ]
    },
    {
      "cell_type": "markdown",
      "metadata": {
        "id": "ZmOUWbakMQLu"
      },
      "source": [
        "The owners of the firm, Dave Peterson and Ron Johnson, have raised \\$20 million of investment capital for these projects. Dave and Ron now want to select the combination of projects that will maximize their total estimated long-run profit (net present value) without investing more that \\\\$ 20 million. \\\n",
        "\n",
        "Formulate and solve this problem (find best investment combination) with cplex."
      ]
    },
    {
      "cell_type": "code",
      "execution_count": null,
      "metadata": {
        "id": "_YFOra9wMQLu",
        "colab": {
          "base_uri": "https://localhost:8080/"
        },
        "outputId": "6133b5b3-7692-4079-88a7-a2dc95f9f7af"
      },
      "outputs": [
        {
          "output_type": "stream",
          "name": "stdout",
          "text": [
            "Model: best-investment-combination\n",
            " - number of variables: 5\n",
            "   - binary=5, integer=0, continuous=0\n",
            " - number of constraints: 0\n",
            "   - linear=0\n",
            " - parameters: defaults\n",
            " - objective: none\n",
            " - problem type is: MILP\n"
          ]
        }
      ],
      "source": [
        "#define the variables\n",
        "project = range(1, 6) # {1,2,3,4,5}\n",
        "profit = {1: 1, 2: 1.8, 3:1.6, 4:0.8, 5:1.4}\n",
        "capital = {1: 6, 2: 12, 3: 10, 4:4, 5:8}\n",
        "investment = (20)\n",
        "\n",
        "\n",
        "# create model\n",
        "from docplex.mp.model import Model\n",
        "im = Model(name='best-investment-combination')\n",
        "\n",
        "# define decision variable x : binary for path included or not\n",
        "x = {(i): im.binary_var(name='x_{0}'.format(i)) for i in project}\n",
        "\n",
        "im.print_information()"
      ]
    },
    {
      "cell_type": "code",
      "execution_count": null,
      "metadata": {
        "id": "NkGDYoHTMQLu"
      },
      "outputs": [],
      "source": [
        "# constraint :  total capital required is equal or less than 20$\n",
        "for i in project:\n",
        "    im.add_constraint(im.sum(x[i]*capital[i] for i in project) <= investment)\n",
        "\n",
        "# objective function (1)\n",
        "im.maximize(im.sum(x[i]*profit[i] for i in project ))"
      ]
    },
    {
      "cell_type": "code",
      "execution_count": null,
      "metadata": {
        "id": "jWR5TSp7MQLu",
        "colab": {
          "base_uri": "https://localhost:8080/"
        },
        "outputId": "e99051c9-1c9b-41c6-b45d-edba256c1363"
      },
      "outputs": [
        {
          "output_type": "stream",
          "name": "stdout",
          "text": [
            "objective: 3.400\n",
            "status: OPTIMAL_SOLUTION(2)\n",
            "  x_1=1\n",
            "  x_3=1\n",
            "  x_4=1\n"
          ]
        }
      ],
      "source": [
        "# get the solution\n",
        "si = im.solve()\n",
        "im.print_solution()"
      ]
    },
    {
      "cell_type": "markdown",
      "metadata": {
        "id": "a49v7cQQMQLu"
      },
      "source": [
        "### 2\n",
        "Powerco has three electric power plants that supply the electric needs of four cities.\n",
        "\n",
        "•The associated supply of each plant and demand of each city are\n",
        "known.\n",
        "\n",
        "•The cost of sending 1 million kwh of electricity from a plant to a\n",
        "city depends on the distance the electricity must travel.\n",
        "\n",
        "• Formulate an LP to minimize cost and solve this problem with cplex."
      ]
    },
    {
      "cell_type": "markdown",
      "metadata": {
        "id": "okA0PlAqMQLu"
      },
      "source": [
        "<p>\n",
        "<ul>\n",
        "<img src = \"https://i.ibb.co/cCSMNhL/Screenshot-2021-12-16-at-23-20-17.png\" >\n",
        "</ul> "
      ]
    },
    {
      "cell_type": "code",
      "execution_count": null,
      "metadata": {
        "id": "q2UB_F9dMQLu",
        "colab": {
          "base_uri": "https://localhost:8080/"
        },
        "outputId": "57a084e9-f18c-4cb0-fe31-a92c54703cf7"
      },
      "outputs": [
        {
          "output_type": "stream",
          "name": "stdout",
          "text": [
            "Model: least-cost\n",
            " - number of variables: 12\n",
            "   - binary=0, integer=0, continuous=12\n",
            " - number of constraints: 0\n",
            "   - linear=0\n",
            " - parameters: defaults\n",
            " - objective: none\n",
            " - problem type is: LP\n"
          ]
        }
      ],
      "source": [
        "#define the variables\n",
        "city = range(1, 5) # {1,2,3,4}\n",
        "plant = range(1, 4) # {1,2,3}\n",
        "\n",
        "cost = {(1,1): 8, (1,2): 6, (1,3):10, (1,4):9,(2,1): 9, (2,2): 12, (2,3):13, (2,4):7, (3,1): 14, (3,2): 9, (3,3):16, (3,4):5}\n",
        "demand = {1: 45, 2: 20, 3:30, 4:30}\n",
        "supply = {1:35, 2:50, 3:40}\n",
        "\n",
        "\n",
        "# create model\n",
        "from docplex.mp.model import Model\n",
        "tm = Model(name='least-cost')\n",
        "\n",
        "# define decision variable x : binary for path included or not\n",
        "x = {(i,j): tm.continuous_var(name='x_{0}_{1}'.format(i,j)) for i in plant for j in city if (i,j) in cost}\n",
        "\n",
        "tm.print_information()"
      ]
    },
    {
      "cell_type": "code",
      "execution_count": null,
      "metadata": {
        "id": "EeGX4ImaMQLu",
        "colab": {
          "base_uri": "https://localhost:8080/"
        },
        "outputId": "db9f7b3c-fe3e-4272-e54e-711d13eed4b2"
      },
      "outputs": [
        {
          "output_type": "stream",
          "name": "stdout",
          "text": [
            "Model: least-cost\n",
            " - number of variables: 12\n",
            "   - binary=0, integer=0, continuous=12\n",
            " - number of constraints: 7\n",
            "   - linear=7\n",
            " - parameters: defaults\n",
            " - objective: minimize\n",
            " - problem type is: LP\n",
            "solution for: least-cost\n",
            "objective: 1020.000\n",
            "status: OPTIMAL_SOLUTION(2)\n",
            "x_1_2 = 10.000\n",
            "x_1_3 = 25.000\n",
            "x_2_1 = 45.000\n",
            "x_2_3 = 5.000\n",
            "x_3_2 = 10.000\n",
            "x_3_4 = 30.000\n"
          ]
        }
      ],
      "source": [
        "# constraint 1 : total outgoing supply must be equal or less than the available supply \n",
        "for i in plant:\n",
        "    tm.add_constraint(tm.sum(x[i,j] for j in city if (i,j) in cost) <= supply[i])\n",
        "# constraint 2 : each demand from a city must be equal or more than sum of supply\n",
        "for j in city:\n",
        "    tm.add_constraint(tm.sum(x[i,j] for i in plant if (i,j) in cost) >= demand[j])\n",
        "\n",
        "# objective function (2)\n",
        "tm.minimize(tm.sum(x[i,j]*cost[i,j] for i in plant for j in city if (i,j) in cost))\n",
        "\n"
      ]
    },
    {
      "cell_type": "code",
      "execution_count": null,
      "metadata": {
        "id": "7CGA6PyjMQLu",
        "colab": {
          "base_uri": "https://localhost:8080/"
        },
        "outputId": "df8c6201-afd5-4ad7-d21d-4958dad88fd3"
      },
      "outputs": [
        {
          "output_type": "stream",
          "name": "stdout",
          "text": [
            "Model: least-cost\n",
            " - number of variables: 12\n",
            "   - binary=0, integer=0, continuous=12\n",
            " - number of constraints: 7\n",
            "   - linear=7\n",
            " - parameters: defaults\n",
            " - objective: minimize\n",
            " - problem type is: LP\n",
            "solution for: least-cost\n",
            "objective: 1020.000\n",
            "status: OPTIMAL_SOLUTION(2)\n",
            "x_1_2 = 10.000\n",
            "x_1_3 = 25.000\n",
            "x_2_1 = 45.000\n",
            "x_2_3 = 5.000\n",
            "x_3_2 = 10.000\n",
            "x_3_4 = 30.000\n"
          ]
        }
      ],
      "source": [
        "tm.print_information()\n",
        "# get the solution\n",
        "sol = tm.solve()\n",
        "sol.display()"
      ]
    },
    {
      "cell_type": "markdown",
      "metadata": {
        "id": "HLhjWv6AMQLv"
      },
      "source": [
        "### 3 The Shortest path problem\n",
        "Solve the shortest path problem from $A$ to $F$ using cplex. ( be careful this is an undirected graph )\n"
      ]
    },
    {
      "cell_type": "markdown",
      "metadata": {
        "id": "D8hG4pPeMQLv"
      },
      "source": [
        "<p>\n",
        "<ul>\n",
        "<img src = \"https://ftp.bmp.ovh/imgs/2020/12/bf64ba8bc7f61d16.png\" >\n",
        "</ul> "
      ]
    },
    {
      "cell_type": "code",
      "execution_count": null,
      "metadata": {
        "id": "Six4opriMQLv",
        "colab": {
          "base_uri": "https://localhost:8080/"
        },
        "outputId": "90306c80-8c8f-44cf-fa4a-2a6b6123bf63"
      },
      "outputs": [
        {
          "output_type": "stream",
          "name": "stdout",
          "text": [
            "Model: shortest_undirected_path\n",
            " - number of variables: 0\n",
            "   - binary=0, integer=0, continuous=0\n",
            " - number of constraints: 0\n",
            "   - linear=0\n",
            " - parameters: defaults\n",
            " - objective: none\n",
            " - problem type is: LP\n"
          ]
        }
      ],
      "source": [
        "# define the variables\n",
        "nodes = range(0,6) # {0, 1, 2, 3, 4, 5}\n",
        "source = {0}\n",
        "destination = {5}\n",
        "distance = {(0,1): 8, (0,2): 10,\n",
        "            (1,0): 8, (2,0): 10,\n",
        "            (1,3):11, (1,4): 11, \n",
        "            (3,1):11, (4,1): 11, \n",
        "            (2,3): 7, (2,4): 9,\n",
        "            (3,2): 7, (4,2): 9,  \n",
        "            (3,5): 9, (4,5):8,\n",
        "            (5,3): 9, (5,4):8}\n",
        "\n",
        "\n",
        "# create model\n",
        "from docplex.mp.model import Model\n",
        "im = Model(name='shortest_undirected_path')\n",
        "\n",
        "# define decision variable x : binary for path included or not\n",
        "x = {(i,j): im.binary_var(name='x_{0}_{1}'.format(i,j)) for i in nodes for j in nodes if (i,j) in distance}\n",
        "\n",
        "im.print_information()"
      ]
    },
    {
      "cell_type": "code",
      "execution_count": null,
      "metadata": {
        "id": "KF5ssrtwMQLv"
      },
      "outputs": [],
      "source": [
        "# constraint (2)\n",
        "for i in source:\n",
        "    im.add_constraint(im.sum(x[i,j] for j in nodes if (i,j) in distance) - \n",
        "                      im.sum(x[j,i] for j in nodes if (j,i) in distance ) == 1)\n",
        "\n",
        "for i in destination:\n",
        "    im.add_constraint(im.sum(x[i,j] for j in nodes if (i,j) in distance) - \n",
        "                      im.sum(x[j,i] for j in nodes if (j,i) in distance ) == -1)\n",
        "\n",
        "for i in nodes :\n",
        "    if i not in source and i not in destination:\n",
        "        im.add_constraint(im.sum(x[i,j] for j in nodes if (i,j) in distance) - \n",
        "                          im.sum(x[j,i] for j in nodes if (j,i) in distance ) == 0)\n",
        "\n",
        "# constraint (3)\n",
        "for i in nodes :\n",
        "    im.add_constraint(im.sum(x[i,j] for j in nodes if (i,j) in distance) <= 1)"
      ]
    },
    {
      "cell_type": "code",
      "execution_count": null,
      "metadata": {
        "id": "aQi-OJtUMQLv",
        "colab": {
          "base_uri": "https://localhost:8080/"
        },
        "outputId": "b43d6124-187a-4776-874f-4a02d67f44f0"
      },
      "outputs": [
        {
          "output_type": "stream",
          "name": "stdout",
          "text": [
            "solution for: shortest_undirected_path\n",
            "objective: 26\n",
            "status: OPTIMAL_SOLUTION(2)\n",
            "x_0_2 = 1\n",
            "x_2_3 = 1\n",
            "x_3_5 = 1\n"
          ]
        }
      ],
      "source": [
        "# objective function (3)\n",
        "im.minimize(im.sum(x[i,j]*distance[i,j] for i in nodes for j in nodes if (i,j) in distance))\n",
        "\n",
        "sol = im.solve()\n",
        "sol.display()"
      ]
    },
    {
      "cell_type": "markdown",
      "metadata": {
        "id": "uV6mndGQMQLv"
      },
      "source": [
        "### 4 Vertex Coloring \n",
        "\n",
        "Vertex coloring is the most common graph coloring problem. The problem is, given $m$ colors, find a way of coloring the vertices of a graph such that **no two adjacent vertices are colored using same color**. The most common type of vertex coloring seeks to **minimize the number of colors for a given graph**. Such a coloring is known as a minimum vertex coloring, and the minimum number of colors which with the vertices of a graph G may be colored is called the chromatic number.\n",
        "\n",
        "Calculate the chromatic number of the following graph using cplex."
      ]
    },
    {
      "cell_type": "markdown",
      "metadata": {
        "id": "SjKvCYN5MQLv"
      },
      "source": [
        "<p>\n",
        "<ul>\n",
        "<img src = \"https://ftp.bmp.ovh/imgs/2020/12/5e4cf3c25b43b0b6.png\" >\n",
        "</ul> \n",
        "\n"
      ]
    },
    {
      "cell_type": "code",
      "execution_count": null,
      "metadata": {
        "id": "0Yc8xvDEMQLv",
        "colab": {
          "base_uri": "https://localhost:8080/"
        },
        "outputId": "ebd451f9-3de4-43f4-bf22-9b00cdba80c8"
      },
      "outputs": [
        {
          "output_type": "stream",
          "name": "stdout",
          "text": [
            "Model: vertex-coloring\n",
            " - number of variables: 58\n",
            "   - binary=58, integer=0, continuous=0\n",
            " - number of constraints: 0\n",
            "   - linear=0\n",
            " - parameters: defaults\n",
            " - objective: none\n",
            " - problem type is: MILP\n"
          ]
        }
      ],
      "source": [
        "# define the variables\n",
        "nodes = range(0,6) # {0, 1, 2, 3, 4, 5}\n",
        "arcs = {(0,4), (0,2), (0,5),\n",
        "        (1,4),(1,5),\n",
        "        (2,0),(2,3),(2,4),\n",
        "        (3,2),\n",
        "        (4,0),(4,1),(4,5),(4,2),\n",
        "        (5,1), (5,0), (5,4)}\n",
        "colors = range(0,6) # {0, 1, 2, 3, 4, 5}\n",
        "\n",
        "# create model\n",
        "from docplex.mp.model import Model\n",
        "vertex = Model(name='vertex-coloring')\n",
        "\n",
        "# variable m : i and j adjacent\n",
        "m = {(i,j): vertex.binary_var(name='m_{0}_{1}'.format(i,j)) for i in nodes for j in nodes if (i,j) in arcs}\n",
        "\n",
        "# variable x : i actif color\n",
        "x = {(i): vertex.binary_var(name='x_{0}'.format(i)) for i in colors} \n",
        "\n",
        "# variable y : if the color i is affected to a node j\n",
        "\n",
        "y = {(i,j): vertex.binary_var(name='y_{0}_{1}'.format(i,j)) for i in colors for j in nodes}\n",
        "\n",
        "vertex.print_information()"
      ]
    },
    {
      "cell_type": "code",
      "execution_count": null,
      "metadata": {
        "id": "bB2K_EJKMQLv"
      },
      "outputs": [],
      "source": [
        "# constraint 1 : unique color for each node\n",
        "for j in nodes:\n",
        "  vertex.add_constraint(vertex.sum(y[i,j] for i in colors ) == 1)\n",
        "\n",
        "# constraint 2 : actif color must be affected to a node, et vice versa\n",
        "for i in colors : \n",
        "  for j in nodes :\n",
        "    vertex.add_constraint((y[i,j] - x[i] ) <= 0)\n",
        "\n",
        "# constraint 3 : adjacents nodes must have different colors\n",
        "\n",
        "for j in colors :\n",
        "  for a in nodes : \n",
        "    for b in nodes :\n",
        "       if (a,b) in arcs : \n",
        "        vertex.add_constraint(((y[j,a]+y[j,b])) <= 1)\n"
      ]
    },
    {
      "cell_type": "code",
      "execution_count": null,
      "metadata": {
        "id": "NienAR84MQLw",
        "colab": {
          "base_uri": "https://localhost:8080/"
        },
        "outputId": "376fe9c8-ff67-4d48-a790-88b148264c6d"
      },
      "outputs": [
        {
          "output_type": "stream",
          "name": "stdout",
          "text": [
            "solution for: vertex-coloring\n",
            "objective: 3\n",
            "status: OPTIMAL_SOLUTION(2)\n",
            "x_0 = 1\n",
            "x_2 = 1\n",
            "x_5 = 1\n",
            "y_0_4 = 1\n",
            "y_2_2 = 1\n",
            "y_2_5 = 1\n",
            "y_5_0 = 1\n",
            "y_5_1 = 1\n",
            "y_5_3 = 1\n"
          ]
        }
      ],
      "source": [
        "# objective function (4)\n",
        "vertex.minimize(vertex.sum(x[i] for i in colors))\n",
        "\n",
        "sol = vertex.solve()\n",
        "sol.display()"
      ]
    },
    {
      "cell_type": "markdown",
      "metadata": {
        "id": "TNkuUI_PMQLw"
      },
      "source": [
        "> Email me your solutions before 23:59 on 23 December) with mail title **\\<M1-MIAGE\\> RO TP2 prenom.nom** to **shangyuan.zhang@universite-paris-saclay.fr**\n",
        "\n",
        ">The solution should be a **.pdf** or **.html** file with title **prenom_nom_TP2.pdf (.html)** generated by this notebook. (see how to generate .pdf or .html from the image below)\n",
        "\n",
        "\n",
        ">For any problem, see : https://stackoverflow.com/questions/15998491/how-to-convert-ipython-notebooks-to-pdf-and-html/25942111"
      ]
    },
    {
      "cell_type": "markdown",
      "metadata": {
        "id": "XdWokGdAMQLw"
      },
      "source": [
        "<div>\n",
        "<img src=\"https://i.stack.imgur.com/vAjri.png\" width=\"600\"/>\n",
        "</div>"
      ]
    },
    {
      "cell_type": "code",
      "execution_count": null,
      "metadata": {
        "id": "8TJwO27RMQLw",
        "colab": {
          "base_uri": "https://localhost:8080/"
        },
        "outputId": "6e4f57fe-ef74-46b6-af37-bb02c7ee99ff"
      },
      "outputs": [
        {
          "output_type": "stream",
          "name": "stdout",
          "text": [
            "your email title : \n",
            " <M1-MIAGE> RO TP2 dounia.bouloudene\n",
            "\n",
            "your file name : \n",
            "dounia_bouloudene_TP2.pdf\n"
          ]
        }
      ],
      "source": [
        "''' A title/file name generator''' \n",
        "\n",
        "prenom = 'dounia'  # type your first name here\n",
        "nom = 'bouloudene'    # type your last name here\n",
        "file_type = '.pdf'\n",
        "# file_type = '.html'\n",
        "\n",
        "print(\"your email title : \\n\" \" <M1-MIAGE> RO TP2 \"+ prenom + \".\" + nom)\n",
        "print(\"\\nyour file name : \\n\" + prenom + \"_\" + nom + \"_TP2\" + file_type )"
      ]
    },
    {
      "cell_type": "code",
      "execution_count": null,
      "metadata": {
        "id": "tTl6nwOvMQLw"
      },
      "outputs": [],
      "source": []
    }
  ],
  "metadata": {
    "kernelspec": {
      "display_name": "Python 3",
      "language": "python",
      "name": "python3"
    },
    "language_info": {
      "codemirror_mode": {
        "name": "ipython",
        "version": 3
      },
      "file_extension": ".py",
      "mimetype": "text/x-python",
      "name": "python",
      "nbconvert_exporter": "python",
      "pygments_lexer": "ipython3",
      "version": "3.8.8"
    },
    "colab": {
      "provenance": [],
      "collapsed_sections": [
        "HQlvN_6cMQLg"
      ],
      "toc_visible": true,
      "include_colab_link": true
    }
  },
  "nbformat": 4,
  "nbformat_minor": 0
}